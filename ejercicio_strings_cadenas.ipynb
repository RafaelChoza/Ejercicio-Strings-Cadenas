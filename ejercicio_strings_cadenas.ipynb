{
 "cells": [
  {
   "cell_type": "code",
   "execution_count": 48,
   "id": "88bd0244",
   "metadata": {},
   "outputs": [
    {
     "name": "stdout",
     "output_type": "stream",
     "text": [
      "Analizador de sentimientos\n",
      "\n",
      "my_string: \n",
      "El perfume ofrece un aroma exquisito y clásico, no es apreciado por su intensidad suave que perdura todo el día. Es especialmente valorado por su calidad constante a lo largo de los años y su agradable esencia maderosa, lo que lo hace ideal para personas mayores. Además, destaca por su excelente relación calidadprecio.\n",
      "\n",
      "score: 2 \n",
      "resultado: Positivo\n"
     ]
    }
   ],
   "source": [
    "my_string_1 = \"\"\"\n",
    "El perfume ofrece un aroma exquisito y clásico, no es apreciado por su intensidad suave que perdura todo el día. Es especialmente valorado por su calidad constante a lo largo de los años y su agradable esencia maderosa, lo que lo hace ideal para personas mayores. Además, destaca por su excelente relación calidadprecio.\n",
    "\"\"\" \n",
    "positive_words = [\"bueno\", \"buen\", \"apreciado\", \"sirve\", \"cumple\", \"agradable\", \"supera\", \"lindo\", \"bonito\", \"ideal\", \"excelente\", \"maravilloso\", \"innovador\", \"fiable\", \"eficiente\", \"duradero\", \"funcional\", \"versátil\", \"cómodo\", \"práctico\", \"estético\", \"atractivo\", \"completo\", \"satisfactorio\", \"increíble\", \"asombroso\", \"útil\", \"recomendable\", \"conveniente\", \"superior\", \"perfecto\"] \n",
    "negative_words = [\"defectuoso\", \"feo\", \"horrible\", \"malo\", \"sencillo\", \"decepcionante\", \"frágil\", \"inútil\", \"incómodo\", \"costoso\", \"pobre\", \"deficiente\", \"insatisfactorio\", \"engañoso\", \"mediocre\", \"inadecuado\", \"limitado\", \"lento\", \"incompleto\", \"desagradable\", \"desgastado\", \"roto\", \"doblado\", \"aplastado\", \"impráctico\"] \n",
    "score = 0 \n",
    "\n",
    "words = my_string_1.lower().split()\n",
    "\n",
    "\n",
    "for i, word in enumerate(words):\n",
    "    if word in positive_words:\n",
    "        if i == 0:\n",
    "            score += 1\n",
    "        elif i > 0 and words[i - 1] == \"no\":\n",
    "            score -= 1\n",
    "        elif i > 0 and words[i - 1] == \"tampoco\":\n",
    "            score -= 1\n",
    "        elif i > 0 and words[i - 1] == \"muy\":\n",
    "            score += 1\n",
    "        elif i > 2 and words[i - 2] == \"no\" and words[i - 1] == \"es\":\n",
    "            score -= 1\n",
    "        elif i > 2 and words[i - 2] == \"no\" and words[i - 1] == \"muy\":\n",
    "            score -= 1\n",
    "        elif i > 2 and words[i - 2] == \"tampoco\" and words[i - 1] == \"es\":\n",
    "            score -= 1\n",
    "        else:\n",
    "            score += 1\n",
    "\n",
    "    elif word in negative_words:\n",
    "        if i == 0:\n",
    "            score -= 1\n",
    "        elif i > 0 and words[i - 1] == \"muy\":\n",
    "            score -= 1\n",
    "        elif i > 0 and words[i - 1] == \"no\":\n",
    "            score += 1\n",
    "        elif i > 0 and words[i - 1] == \"es\":\n",
    "            score -= 1\n",
    "        elif i > 2 and words[i - 2] == \"es\" and words[i - 1] == \"muy\":\n",
    "            score -= 1\n",
    "        elif i > 2 and words[i - 2] == \"tampoco\" and words[i - 1] == \"es\":\n",
    "            score += 1\n",
    "        else:\n",
    "            score -= 1\n",
    "\n",
    "if score == 0:    \n",
    "    result = \"Neutro\" \n",
    "elif score > 0:    \n",
    "    result = \"Positivo\" \n",
    "else:    \n",
    "    result = \"Negativo\"    \n",
    "    \n",
    "print(\"Analizador de sentimientos\\n\") \n",
    "print(\"my_string: {}\\nscore: {} \\nresultado: {}\".format(my_string_1, score, result))"
   ]
  },
  {
   "cell_type": "code",
   "execution_count": null,
   "id": "1f34699b",
   "metadata": {},
   "outputs": [],
   "source": []
  }
 ],
 "metadata": {
  "kernelspec": {
   "display_name": "Python 3 (ipykernel)",
   "language": "python",
   "name": "python3"
  },
  "language_info": {
   "codemirror_mode": {
    "name": "ipython",
    "version": 3
   },
   "file_extension": ".py",
   "mimetype": "text/x-python",
   "name": "python",
   "nbconvert_exporter": "python",
   "pygments_lexer": "ipython3",
   "version": "3.9.6"
  }
 },
 "nbformat": 4,
 "nbformat_minor": 5
}
